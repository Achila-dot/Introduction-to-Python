{
 "cells": [
  {
   "cell_type": "code",
   "execution_count": null,
   "metadata": {},
   "outputs": [],
   "source": [
    "import sys\n",
    "if __name__ == '__main__':\n",
    "    x = int(input())\n",
    "    y = int(input())\n",
    "    z = int(input())\n",
    "    n = int(input())\n",
    "print([[i,j,k]for i in range(x) for j in range(y) for k in range(z) if i+j+k!=n])"
   ]
  },
  {
   "cell_type": "code",
   "execution_count": null,
   "metadata": {},
   "outputs": [],
   "source": [
    "import sys\n",
    "if __name__ == '__main__':\n",
    "    x = int(input())\n",
    "    y = int(input())\n",
    "    z = int(input())\n",
    "    n = int(input())\n",
    "print([[i,j,k]for i in range(x) for j in range(y) for k in range(z) if i+j+k!=n])"
   ]
  },
  {
   "cell_type": "code",
   "execution_count": 1,
   "metadata": {},
   "outputs": [],
   "source": [
    "def calculator(num1, sign, num2):\n",
    "\timport operator\n",
    "\tcalc={'+':operator.add,'-':operator.sub,'*':operator.mul,'/':operator.truediv,'//':operator.floordiv,'%':operator.mod,'**':operator.pow}\n",
    "\treturn calc[sign](num1,num2)"
   ]
  },
  {
   "cell_type": "code",
   "execution_count": 2,
   "metadata": {},
   "outputs": [
    {
     "data": {
      "text/plain": [
       "5"
      ]
     },
     "execution_count": 2,
     "metadata": {},
     "output_type": "execute_result"
    }
   ],
   "source": [
    "calculator(2,'+',3)"
   ]
  },
  {
   "cell_type": "code",
   "execution_count": null,
   "metadata": {},
   "outputs": [],
   "source": []
  },
  {
   "cell_type": "code",
   "execution_count": 5,
   "metadata": {},
   "outputs": [],
   "source": [
    "def calculator(num1, sign, num2):\n",
    "\timport operator\n",
    "\tcalc={'+':operator.add,'-':operator.sub,'*':operator.mul,\n",
    "          '/':operator.truediv,'//':operator.floordiv,'%':operator.mod,'**':operator.pow}\n",
    "\ttry:\n",
    "\t\treturn calc[sign](num1,num2)\n",
    "\texcept:\n",
    "\t\tif num2==0 and sign=='/':\n",
    "\t\t\tprint(\"can't be divided by zero\")\n",
    "\t\telif num2==0 and sign=='//':\n",
    "\t\t\tprint(\"can't be divided by zero\")\n",
    "\t\telif num2==0 and sign=='%':\n",
    "\t\t\tprint(\"can't be divided by zero\")"
   ]
  },
  {
   "cell_type": "code",
   "execution_count": 6,
   "metadata": {},
   "outputs": [
    {
     "name": "stdout",
     "output_type": "stream",
     "text": [
      "can't be divided by zero\n"
     ]
    }
   ],
   "source": [
    "calculator(2,'/',0)"
   ]
  },
  {
   "cell_type": "code",
   "execution_count": 7,
   "metadata": {},
   "outputs": [
    {
     "data": {
      "text/plain": [
       "0.6666666666666666"
      ]
     },
     "execution_count": 7,
     "metadata": {},
     "output_type": "execute_result"
    }
   ],
   "source": [
    "calculator(2,'/',3)"
   ]
  },
  {
   "cell_type": "code",
   "execution_count": 8,
   "metadata": {},
   "outputs": [],
   "source": [
    "def calculator(num1, sign, num2):\n",
    "\timport operator\n",
    "\tcalc={'+':operator.add,'-':operator.sub,'*':operator.mul,\n",
    "          '/':operator.truediv,'//':operator.floordiv,'%':operator.mod,'**':operator.pow}\n",
    "\ttry:\n",
    "\t\treturn calc[sign](num1,num2)\n",
    "\texcept:\n",
    "\t\tif num2==0 and sign=='/':\n",
    "\t\t\tprint(\"can't be divided by zero\")\n",
    "\t\telif num2==0 and sign=='//':\n",
    "\t\t\tprint(\"can't be divided by zero\")\n",
    "\t\telif num2==0 and sign=='%':\n",
    "\t\t\tprint(\"can't be divided by zero\")"
   ]
  },
  {
   "cell_type": "code",
   "execution_count": null,
   "metadata": {},
   "outputs": [],
   "source": [
    "def searchMinFromList(L,n):\n",
    "    minValue=L[0]\n",
    "    idx=0\n",
    "    counter=1\n",
    "    while counter<n:\n",
    "        v=L[counter]\n",
    "        if v<minValue:\n",
    "            minValue=v\n",
    "            idx=counter\n",
    "        else:\n",
    "            pass\n",
    "    return minValue,idx"
   ]
  },
  {
   "cell_type": "code",
   "execution_count": null,
   "metadata": {},
   "outputs": [],
   "source": [
    "L=[1,3,5,7,8,-9,-30,0]\n",
    "\n",
    "n=len(L)\n",
    "\n",
    "n"
   ]
  },
  {
   "cell_type": "raw",
   "metadata": {},
   "source": [
    "\n",
    "searchMinFromList(L,n)\n"
   ]
  },
  {
   "cell_type": "code",
   "execution_count": null,
   "metadata": {},
   "outputs": [],
   "source": [
    "L=[1,3,5,7,8,-9,-30,0]\n",
    "\n",
    "n=len(L)\n",
    "\n",
    "searchMinFromList(L,n)\n"
   ]
  },
  {
   "cell_type": "code",
   "execution_count": null,
   "metadata": {},
   "outputs": [],
   "source": [
    "def searchMinFromList(L,n):\n",
    "    minValue=L[0]\n",
    "    idx=0\n",
    "    counter=1\n",
    "    while counter<n:\n",
    "        v=L[counter]\n",
    "        if v<minValue:\n",
    "            minValue=v\n",
    "            idx=counter\n",
    "        else:\n",
    "            pass\n",
    "    return minValue,idx"
   ]
  },
  {
   "cell_type": "code",
   "execution_count": null,
   "metadata": {},
   "outputs": [],
   "source": [
    "L=[1,3,5,7,8,-9,-30,0]\n",
    "\n",
    "n=len(L)\n",
    "n\n"
   ]
  },
  {
   "cell_type": "code",
   "execution_count": null,
   "metadata": {},
   "outputs": [],
   "source": []
  }
 ],
 "metadata": {
  "kernelspec": {
   "display_name": "Python 3",
   "language": "python",
   "name": "python3"
  },
  "language_info": {
   "codemirror_mode": {
    "name": "ipython",
    "version": 3
   },
   "file_extension": ".py",
   "mimetype": "text/x-python",
   "name": "python",
   "nbconvert_exporter": "python",
   "pygments_lexer": "ipython3",
   "version": "3.8.5"
  }
 },
 "nbformat": 4,
 "nbformat_minor": 4
}
