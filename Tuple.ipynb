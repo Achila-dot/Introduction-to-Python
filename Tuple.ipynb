{
 "cells": [
  {
   "cell_type": "code",
   "execution_count": null,
   "metadata": {},
   "outputs": [],
   "source": [
    "\"\"\"\n",
    "Ordered, Immutable and allow duplicates\n",
    "\"\"\"\n",
    "#Creation of Tuple\n",
    "T_list=tuple([1,2,3])\n",
    "print(T_list)\n",
    "#using paranthesis\n",
    "T=(1,)\n",
    "print(T)"
   ]
  },
  {
   "cell_type": "code",
   "execution_count": null,
   "metadata": {},
   "outputs": [],
   "source": [
    "#Concatenation\n",
    "(1,2)+(3,4)"
   ]
  },
  {
   "cell_type": "code",
   "execution_count": null,
   "metadata": {},
   "outputs": [],
   "source": [
    "#Repetition\n",
    "(5,6)*4"
   ]
  },
  {
   "cell_type": "code",
   "execution_count": null,
   "metadata": {},
   "outputs": [],
   "source": [
    "(10,)*3"
   ]
  },
  {
   "cell_type": "code",
   "execution_count": null,
   "metadata": {},
   "outputs": [],
   "source": [
    "#Indexing\n",
    "T=(1,2,3,4)\n",
    "#A tuple without brackets\n",
    "T[0],T[1:3]"
   ]
  },
  {
   "cell_type": "code",
   "execution_count": null,
   "metadata": {},
   "outputs": [],
   "source": [
    "T = (1, 2, 3, 2, 4, 2)\n",
    "#offset of first appearance of 2\n",
    "print(T.index(2))\n",
    "#offset of appearance after offset 2\n",
    "print(T.index(2,2))"
   ]
  },
  {
   "cell_type": "code",
   "execution_count": null,
   "metadata": {},
   "outputs": [],
   "source": [
    "#Frequency of occurrence inside a Tuple\n",
    "print(T.count(2))\n",
    "print(T.count(3))"
   ]
  },
  {
   "cell_type": "code",
   "execution_count": null,
   "metadata": {},
   "outputs": [],
   "source": [
    "#Number of elements in the Tuple\n",
    "T = (1, 2, 3, 2, 4, 2)\n",
    "print(len(T))"
   ]
  },
  {
   "cell_type": "markdown",
   "metadata": {},
   "source": [
    "Unpacking a Tuple"
   ]
  },
  {
   "cell_type": "code",
   "execution_count": null,
   "metadata": {},
   "outputs": [],
   "source": [
    "MyTuple='Ariel',28,'Clerk'\n",
    "Name,age,job=MyTuple\n",
    "print(Name)\n",
    "print(age)\n",
    "print(job)"
   ]
  },
  {
   "cell_type": "code",
   "execution_count": null,
   "metadata": {},
   "outputs": [],
   "source": [
    "#Using asteriks\n",
    "#the variable with asteriks returns a list\n",
    "a=(1,2,3,4,5,6,7,8,9)\n",
    "b,*c,d=a\n",
    "print(c)\n",
    "print(b)\n",
    "print(d)"
   ]
  },
  {
   "cell_type": "code",
   "execution_count": null,
   "metadata": {},
   "outputs": [],
   "source": [
    "#Comparing list and tuples and use of memory\n",
    "#Lists aren't the best option working with lots of data\n",
    "import sys\n",
    "my_list=[0,1,2,\"Hello\",True]\n",
    "my_tuple=(0,1,2,\"Hello\",True)\n",
    "print(sys.getsizeof(my_list),'bytes')\n",
    "print(sys.getsizeof(my_tuple),'bytes')"
   ]
  },
  {
   "cell_type": "code",
   "execution_count": null,
   "metadata": {},
   "outputs": [],
   "source": [
    "#Assess using timeit\n",
    "import timeit\n",
    "print(timeit.timeit(stmt=\"[0,1,2,4,5]\",number=1000000))\n",
    "print(timeit.timeit(stmt=\"(0,1,2,4,5)\",number=1000000))"
   ]
  },
  {
   "cell_type": "markdown",
   "metadata": {},
   "source": [
    "It can be seen that it takes longer to creat a list"
   ]
  },
  {
   "cell_type": "markdown",
   "metadata": {},
   "source": [
    "namedtuple"
   ]
  },
  {
   "cell_type": "code",
   "execution_count": null,
   "metadata": {},
   "outputs": [],
   "source": [
    "\"\"\"\n",
    "namedtuple utility implements an extension type \n",
    "that adds logic to tuples that allows components \n",
    "to be accessed by both\n",
    "position and attribute name\n",
    "\"\"\"\n",
    "from collections import namedtuple\n",
    "Cred=namedtuple('Cred',['name','age','job'])\n",
    "Ariel=Cred('Ariel',age=28,job=['DA','DS'])\n",
    "Ariel"
   ]
  },
  {
   "cell_type": "code",
   "execution_count": null,
   "metadata": {},
   "outputs": [],
   "source": [
    "# A Tuple of name and age as accessed by position\n",
    "Ariel[0],Ariel[1]"
   ]
  },
  {
   "cell_type": "code",
   "execution_count": null,
   "metadata": {},
   "outputs": [],
   "source": [
    "# Tuple of name and age as accessed by name\n",
    "\n",
    "Ariel.name,Ariel.age"
   ]
  },
  {
   "cell_type": "code",
   "execution_count": null,
   "metadata": {},
   "outputs": [],
   "source": [
    "Ariel.job"
   ]
  },
  {
   "cell_type": "code",
   "execution_count": null,
   "metadata": {},
   "outputs": [],
   "source": []
  }
 ],
 "metadata": {
  "kernelspec": {
   "display_name": "Python 3",
   "language": "python",
   "name": "python3"
  },
  "language_info": {
   "codemirror_mode": {
    "name": "ipython",
    "version": 3
   },
   "file_extension": ".py",
   "mimetype": "text/x-python",
   "name": "python",
   "nbconvert_exporter": "python",
   "pygments_lexer": "ipython3",
   "version": "3.8.5"
  }
 },
 "nbformat": 4,
 "nbformat_minor": 4
}
