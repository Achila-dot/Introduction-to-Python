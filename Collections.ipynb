{
 "cells": [
  {
   "cell_type": "markdown",
   "metadata": {},
   "source": [
    "# Counter"
   ]
  },
  {
   "cell_type": "code",
   "execution_count": 1,
   "metadata": {},
   "outputs": [],
   "source": [
    "from collections import Counter"
   ]
  },
  {
   "cell_type": "code",
   "execution_count": 2,
   "metadata": {},
   "outputs": [],
   "source": [
    "a='aaaaaaabbbbbbccccc'"
   ]
  },
  {
   "cell_type": "code",
   "execution_count": 3,
   "metadata": {},
   "outputs": [
    {
     "name": "stdout",
     "output_type": "stream",
     "text": [
      "Counter({'a': 7, 'b': 6, 'c': 5})\n"
     ]
    }
   ],
   "source": [
    "#This returns a dictionary with the elements as keys and the frequency as values\n",
    "My_counter=Counter(a)\n",
    "print(My_counter)"
   ]
  },
  {
   "cell_type": "code",
   "execution_count": 4,
   "metadata": {},
   "outputs": [
    {
     "name": "stdout",
     "output_type": "stream",
     "text": [
      "dict_items([('a', 7), ('b', 6), ('c', 5)])\n"
     ]
    }
   ],
   "source": [
    "print(My_counter.items())"
   ]
  },
  {
   "cell_type": "code",
   "execution_count": 5,
   "metadata": {},
   "outputs": [
    {
     "data": {
      "text/plain": [
       "dict_keys(['a', 'b', 'c'])"
      ]
     },
     "execution_count": 5,
     "metadata": {},
     "output_type": "execute_result"
    }
   ],
   "source": [
    "My_counter.keys()"
   ]
  },
  {
   "cell_type": "code",
   "execution_count": 6,
   "metadata": {},
   "outputs": [
    {
     "data": {
      "text/plain": [
       "dict_values([7, 6, 5])"
      ]
     },
     "execution_count": 6,
     "metadata": {},
     "output_type": "execute_result"
    }
   ],
   "source": [
    "My_counter.values()"
   ]
  },
  {
   "cell_type": "code",
   "execution_count": 7,
   "metadata": {},
   "outputs": [
    {
     "name": "stdout",
     "output_type": "stream",
     "text": [
      "[('a', 7), ('b', 6), ('c', 5)]\n"
     ]
    }
   ],
   "source": [
    "print(My_counter.most_common()) #Arranges the items from the most common to the least common"
   ]
  },
  {
   "cell_type": "code",
   "execution_count": 8,
   "metadata": {},
   "outputs": [
    {
     "name": "stdout",
     "output_type": "stream",
     "text": [
      "[('a', 7)]\n"
     ]
    }
   ],
   "source": [
    "print(My_counter.most_common(1)) #you can specify the number of the most common items in this case you'd want one"
   ]
  },
  {
   "cell_type": "code",
   "execution_count": 9,
   "metadata": {},
   "outputs": [
    {
     "name": "stdout",
     "output_type": "stream",
     "text": [
      "[('a', 7), ('b', 6)]\n"
     ]
    }
   ],
   "source": [
    "print(My_counter.most_common(2)) #You want 2 of the most common"
   ]
  },
  {
   "cell_type": "code",
   "execution_count": 10,
   "metadata": {},
   "outputs": [
    {
     "name": "stdout",
     "output_type": "stream",
     "text": [
      "a\n"
     ]
    }
   ],
   "source": [
    "#To access the most common element\n",
    "#My_counter.most_common returns a list of Tuples which can be accessed via indexing as shown below\n",
    "print(My_counter.most_common(1)[0][0])"
   ]
  },
  {
   "cell_type": "raw",
   "metadata": {},
   "source": [
    "Counter works with any iterable. Not just strings."
   ]
  },
  {
   "cell_type": "code",
   "execution_count": 11,
   "metadata": {},
   "outputs": [
    {
     "name": "stdout",
     "output_type": "stream",
     "text": [
      "['a', 'a', 'a', 'a', 'a', 'a', 'a', 'b', 'b', 'b', 'b', 'b', 'b', 'c', 'c', 'c', 'c', 'c']\n"
     ]
    }
   ],
   "source": [
    "print(list(My_counter.elements()))#.elements returns an iterable of elements"
   ]
  },
  {
   "cell_type": "markdown",
   "metadata": {},
   "source": [
    "# NamedTuple"
   ]
  },
  {
   "cell_type": "code",
   "execution_count": 12,
   "metadata": {},
   "outputs": [],
   "source": [
    "from collections import namedtuple"
   ]
  },
  {
   "cell_type": "code",
   "execution_count": 13,
   "metadata": {},
   "outputs": [
    {
     "name": "stdout",
     "output_type": "stream",
     "text": [
      "Point(x=1, y=-10)\n"
     ]
    }
   ],
   "source": [
    "Point=namedtuple('Point','x,y')\n",
    "P_oint=Point(1,-10)\n",
    "print(P_oint)"
   ]
  },
  {
   "cell_type": "code",
   "execution_count": 14,
   "metadata": {},
   "outputs": [
    {
     "name": "stdout",
     "output_type": "stream",
     "text": [
      "1 -10\n"
     ]
    }
   ],
   "source": [
    "print(P_oint.x,P_oint.y)"
   ]
  },
  {
   "cell_type": "markdown",
   "metadata": {},
   "source": [
    "# OrderedDict"
   ]
  },
  {
   "cell_type": "code",
   "execution_count": 15,
   "metadata": {},
   "outputs": [],
   "source": [
    "from collections import OrderedDict"
   ]
  },
  {
   "cell_type": "code",
   "execution_count": 16,
   "metadata": {},
   "outputs": [],
   "source": [
    "#OrderedDict remembers the order unlike the normal dictionary\n",
    "ordered_dict=OrderedDict()"
   ]
  },
  {
   "cell_type": "code",
   "execution_count": 17,
   "metadata": {},
   "outputs": [
    {
     "name": "stdout",
     "output_type": "stream",
     "text": [
      "OrderedDict([('First Name', 'Ariel'), ('Surname', 'Achila'), ('Other Name', 'Ombura')])\n"
     ]
    }
   ],
   "source": [
    "ordered_dict['First Name']='Ariel'\n",
    "ordered_dict['Surname']='Achila'\n",
    "ordered_dict['Other Name']='Ombura'\n",
    "#The ordered dictionary is ordered by order of entry\n",
    "print(ordered_dict)"
   ]
  },
  {
   "cell_type": "code",
   "execution_count": 18,
   "metadata": {},
   "outputs": [
    {
     "name": "stdout",
     "output_type": "stream",
     "text": [
      "OrderedDict([('First Name', 'Ariel'), ('Surname', 'Achila'), ('Other Name', 'Ombura')])\n"
     ]
    }
   ],
   "source": [
    "#Switching up the order of entry changes the dictionary order\n",
    "ordered_dict['Surname']='Achila'\n",
    "ordered_dict['First Name']='Ariel'\n",
    "ordered_dict['Other Name']='Ombura'\n",
    "print(ordered_dict)"
   ]
  },
  {
   "cell_type": "code",
   "execution_count": 19,
   "metadata": {},
   "outputs": [
    {
     "name": "stdout",
     "output_type": "stream",
     "text": [
      "defaultdict(<class 'float'>, {'Ronaldo': 7, 'Pogba': 6, 'De Gea': 1})\n",
      "7\n",
      "6\n",
      "1\n"
     ]
    }
   ],
   "source": [
    "#The difference to the regular dictionary is that it will have default values if the value to a key hasn't been set\n",
    "from collections import defaultdict\n",
    "\n",
    "dct=defaultdict(float) #setting type of the value\n",
    "dct['Ronaldo']=7\n",
    "dct['Pogba']=6\n",
    "dct['De Gea']=1\n",
    "print(dct)\n",
    "print(dct['Ronaldo'])\n",
    "print(dct['Pogba'])\n",
    "print(dct['De Gea'])"
   ]
  },
  {
   "cell_type": "code",
   "execution_count": 20,
   "metadata": {},
   "outputs": [
    {
     "name": "stdout",
     "output_type": "stream",
     "text": [
      "0.0\n"
     ]
    }
   ],
   "source": [
    "print(dct['Fred']) #Returns default integer zero because its type in, with a list type returns empty list,"
   ]
  },
  {
   "cell_type": "raw",
   "metadata": {},
   "source": [
    "The default dictionary returns a default value and not a KeyError"
   ]
  },
  {
   "cell_type": "markdown",
   "metadata": {},
   "source": [
    "# Deque"
   ]
  },
  {
   "cell_type": "code",
   "execution_count": 21,
   "metadata": {},
   "outputs": [],
   "source": [
    "from collections import deque"
   ]
  },
  {
   "cell_type": "raw",
   "metadata": {},
   "source": [
    "Used to add or remove elements from both ends"
   ]
  },
  {
   "cell_type": "code",
   "execution_count": 22,
   "metadata": {},
   "outputs": [],
   "source": [
    "dq=deque()"
   ]
  },
  {
   "cell_type": "code",
   "execution_count": 23,
   "metadata": {},
   "outputs": [
    {
     "name": "stdout",
     "output_type": "stream",
     "text": [
      "deque([6, 1, 2, 3, 4])\n"
     ]
    }
   ],
   "source": [
    "#Add value to the deque\n",
    "dq.append(1)\n",
    "dq.append(2)\n",
    "dq.append(3)\n",
    "dq.append(4)\n",
    "\n",
    "dq.appendleft(6)\n",
    "print(dq)"
   ]
  },
  {
   "cell_type": "code",
   "execution_count": 24,
   "metadata": {},
   "outputs": [
    {
     "name": "stdout",
     "output_type": "stream",
     "text": [
      "deque([6, 1, 2, 3])\n"
     ]
    }
   ],
   "source": [
    "dq.pop() #removes item at the end of the list\n",
    "print(dq)"
   ]
  },
  {
   "cell_type": "code",
   "execution_count": 25,
   "metadata": {},
   "outputs": [
    {
     "name": "stdout",
     "output_type": "stream",
     "text": [
      "deque([1, 2, 3])\n"
     ]
    }
   ],
   "source": [
    "dq.popleft() #removes element at the beginning of the list\n",
    "print(dq)"
   ]
  },
  {
   "cell_type": "code",
   "execution_count": 26,
   "metadata": {},
   "outputs": [
    {
     "name": "stdout",
     "output_type": "stream",
     "text": [
      "deque([1, 2, 3, 4, 5, 6])\n"
     ]
    }
   ],
   "source": [
    "dq.extend([4,5,6])\n",
    "print(dq)"
   ]
  },
  {
   "cell_type": "code",
   "execution_count": 27,
   "metadata": {},
   "outputs": [
    {
     "name": "stdout",
     "output_type": "stream",
     "text": [
      "deque([6, 1, 2, 3, 4, 5])\n"
     ]
    }
   ],
   "source": [
    "dq.rotate(1)\n",
    "print(dq)"
   ]
  },
  {
   "cell_type": "code",
   "execution_count": 28,
   "metadata": {},
   "outputs": [
    {
     "name": "stdout",
     "output_type": "stream",
     "text": [
      "deque([8, 7, 6, 6, 1, 2, 3, 4, 5])\n"
     ]
    }
   ],
   "source": [
    "dq.extendleft([6,7,8])\n",
    "print(dq)"
   ]
  },
  {
   "cell_type": "code",
   "execution_count": 29,
   "metadata": {},
   "outputs": [
    {
     "name": "stdout",
     "output_type": "stream",
     "text": [
      "deque([5, 8, 7, 6, 6, 1, 2, 3, 4])\n"
     ]
    }
   ],
   "source": [
    "dq.rotate(1) #rotates all elements one place to the right\n",
    "print(dq)"
   ]
  },
  {
   "cell_type": "code",
   "execution_count": 30,
   "metadata": {},
   "outputs": [
    {
     "name": "stdout",
     "output_type": "stream",
     "text": [
      "deque([3, 4, 5, 8, 7, 6, 6, 1, 2])\n"
     ]
    }
   ],
   "source": [
    "dq.rotate(2) #rotates all elements two places to the right\n",
    "print(dq)"
   ]
  },
  {
   "cell_type": "code",
   "execution_count": 31,
   "metadata": {},
   "outputs": [
    {
     "name": "stdout",
     "output_type": "stream",
     "text": [
      "deque([4, 5, 8, 7, 6, 6, 1, 2, 3])\n"
     ]
    }
   ],
   "source": [
    "dq.rotate(-1) #rotates all elements one place to the left\n",
    "print(dq)"
   ]
  },
  {
   "cell_type": "code",
   "execution_count": 32,
   "metadata": {},
   "outputs": [
    {
     "name": "stdout",
     "output_type": "stream",
     "text": [
      "deque([8, 7, 6, 6, 1, 2, 3, 4, 5])\n"
     ]
    }
   ],
   "source": [
    "dq.rotate(-2) #rotates all elements one place to the left\n",
    "print(dq)"
   ]
  }
 ],
 "metadata": {
  "kernelspec": {
   "display_name": "Python 3",
   "language": "python",
   "name": "python3"
  },
  "language_info": {
   "codemirror_mode": {
    "name": "ipython",
    "version": 3
   },
   "file_extension": ".py",
   "mimetype": "text/x-python",
   "name": "python",
   "nbconvert_exporter": "python",
   "pygments_lexer": "ipython3",
   "version": "3.8.5"
  }
 },
 "nbformat": 4,
 "nbformat_minor": 4
}
