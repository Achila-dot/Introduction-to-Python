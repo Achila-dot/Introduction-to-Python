{
 "cells": [
  {
   "cell_type": "code",
   "execution_count": 4,
   "metadata": {},
   "outputs": [
    {
     "data": {
      "text/plain": [
       "('o',)"
      ]
     },
     "execution_count": 4,
     "metadata": {},
     "output_type": "execute_result"
    }
   ],
   "source": [
    "T=('o',)#A one item Tuple\n",
    "T"
   ]
  },
  {
   "cell_type": "code",
   "execution_count": 5,
   "metadata": {},
   "outputs": [],
   "source": [
    "T=()#an empty tuple"
   ]
  },
  {
   "cell_type": "code",
   "execution_count": 8,
   "metadata": {},
   "outputs": [
    {
     "data": {
      "text/plain": [
       "(1, 'Ni!', 3.0, 4.0)"
      ]
     },
     "execution_count": 8,
     "metadata": {},
     "output_type": "execute_result"
    }
   ],
   "source": [
    "T=(1,'Ni!',3.0,4.0)\n",
    "T"
   ]
  },
  {
   "cell_type": "code",
   "execution_count": 10,
   "metadata": {},
   "outputs": [
    {
     "data": {
      "text/plain": [
       "(1, 'Ni!', 3.0, 4)"
      ]
     },
     "execution_count": 10,
     "metadata": {},
     "output_type": "execute_result"
    }
   ],
   "source": [
    "T=1,'Ni!',3.0,4 #A Tuple without braces\n",
    "T"
   ]
  },
  {
   "cell_type": "code",
   "execution_count": 11,
   "metadata": {},
   "outputs": [
    {
     "data": {
      "text/plain": [
       "(1, 2, 3, 4)"
      ]
     },
     "execution_count": 11,
     "metadata": {},
     "output_type": "execute_result"
    }
   ],
   "source": [
    "(1,2)+(3,4) #concatenation of Tuples"
   ]
  },
  {
   "cell_type": "code",
   "execution_count": 12,
   "metadata": {},
   "outputs": [
    {
     "data": {
      "text/plain": [
       "(1, 2, 3, 4, 1, 2, 3, 4, 1, 2, 3, 4, 1, 2, 3, 4)"
      ]
     },
     "execution_count": 12,
     "metadata": {},
     "output_type": "execute_result"
    }
   ],
   "source": [
    "(1, 2, 3, 4)*4#repetition of Tuples"
   ]
  },
  {
   "cell_type": "code",
   "execution_count": 13,
   "metadata": {},
   "outputs": [
    {
     "data": {
      "text/plain": [
       "(1, ('Ni!', 3.0, 4))"
      ]
     },
     "execution_count": 13,
     "metadata": {},
     "output_type": "execute_result"
    }
   ],
   "source": [
    "T[0],T[1:5]#indexing and slicing"
   ]
  },
  {
   "cell_type": "code",
   "execution_count": 18,
   "metadata": {},
   "outputs": [
    {
     "data": {
      "text/plain": [
       "3"
      ]
     },
     "execution_count": 18,
     "metadata": {},
     "output_type": "execute_result"
    }
   ],
   "source": [
    "T=(1,2,3,4,5,6,2,5,6,2)\n",
    "T.index(2)\n",
    "T.index(2,2)\n",
    "T.count(2)"
   ]
  },
  {
   "cell_type": "code",
   "execution_count": 30,
   "metadata": {},
   "outputs": [
    {
     "name": "stdout",
     "output_type": "stream",
     "text": [
      "Achila Ariel Ombura\n",
      "Yeah that is me\n",
      "\n"
     ]
    }
   ],
   "source": [
    "#Files\n",
    "myfile=open('myfile.txt','w')#open for text output,creates empty.Arguments must be strings\n",
    "myfile.write('Achila Ariel Ombura\\n')#Write a line of text:String\n",
    "myfile.write('Yeah that is me\\n')\n",
    "myfile.close()\n",
    "myfile=open('myfile.txt')\n",
    "myfile.readline()#reads the first line\n",
    "myfile.readline()#reads the second line\n",
    "myfile=open('myfile.txt')#read the entire document\n",
    "print(myfile.read())#print to interprate into user friendly terms\n",
    "\n",
    "\n"
   ]
  },
  {
   "cell_type": "code",
   "execution_count": 33,
   "metadata": {},
   "outputs": [
    {
     "name": "stdout",
     "output_type": "stream",
     "text": [
      "Achila Ariel Ombura\n",
      "Yeah that is me\n"
     ]
    }
   ],
   "source": [
    "for line in open('myfile.txt'):#using comprehension to iterate through strings\n",
    "    print(line,end='')"
   ]
  },
  {
   "cell_type": "code",
   "execution_count": 49,
   "metadata": {},
   "outputs": [
    {
     "name": "stdout",
     "output_type": "stream",
     "text": [
      "Spam\n",
      "43,44,45\n",
      "{'a': 1, 'b': 2}&[1, 2, 3]\n"
     ]
    }
   ],
   "source": [
    "X,Y,Z=43,44,45\n",
    "S='Spam'\n",
    "D={'a':1,'b':2}\n",
    "L=[1,2,3]\n",
    "filename=open('datafile.txt','w')\n",
    "filename.write(S+'\\n')\n",
    "filename.write(('{0},{1},{2}\\n').format(X,Y,Z))\n",
    "filename.write(str(D)+'&'+str(L)+'\\n')\n",
    "filename.close()\n",
    "for line in open('datafile.txt'):\n",
    "    print(line,end='')\n"
   ]
  },
  {
   "cell_type": "code",
   "execution_count": 76,
   "metadata": {},
   "outputs": [
    {
     "data": {
      "text/plain": [
       "[1, 2, 3]"
      ]
     },
     "execution_count": 76,
     "metadata": {},
     "output_type": "execute_result"
    }
   ],
   "source": [
    "filename=open('datafile.txt')\n",
    "char=filename.readline()\n",
    "char.rstrip()\n",
    "parts=filename.readline()\n",
    "parts.rstrip().split()\n",
    "chats=filename.readline()\n",
    "chats=chats.rstrip().split('&')\n",
    "Ch=eval(chats[0])#Converts to any object type\n",
    "objects=[eval(Ch)for Ch in chats]\n",
    "objects\n",
    "K=objects.pop(0)\n",
    "p=objects.pop()\n",
    "p"
   ]
  },
  {
   "cell_type": "code",
   "execution_count": 2,
   "metadata": {},
   "outputs": [
    {
     "data": {
      "text/plain": [
       "{'a': 1, 'b': 2}"
      ]
     },
     "execution_count": 2,
     "metadata": {},
     "output_type": "execute_result"
    }
   ],
   "source": [
    "#Use of the Pickle Module\n",
    "D={'a':1,'b':2}\n",
    "file=open('datafile.pkl','wb')\n",
    "import pickle\n",
    "pickle.dump(D,file)\n",
    "file.close\n",
    "\n",
    "file=open('datafile.pkl','rb')\n",
    "pickle.load(file)"
   ]
  },
  {
   "cell_type": "code",
   "execution_count": 9,
   "metadata": {},
   "outputs": [],
   "source": [
    "#None Object\n",
    "L=[None]*100\n",
    "L[50]='Ariel'"
   ]
  },
  {
   "cell_type": "code",
   "execution_count": null,
   "metadata": {},
   "outputs": [],
   "source": []
  }
 ],
 "metadata": {
  "kernelspec": {
   "display_name": "Python 3",
   "language": "python",
   "name": "python3"
  },
  "language_info": {
   "codemirror_mode": {
    "name": "ipython",
    "version": 3
   },
   "file_extension": ".py",
   "mimetype": "text/x-python",
   "name": "python",
   "nbconvert_exporter": "python",
   "pygments_lexer": "ipython3",
   "version": "3.8.5"
  }
 },
 "nbformat": 4,
 "nbformat_minor": 4
}
