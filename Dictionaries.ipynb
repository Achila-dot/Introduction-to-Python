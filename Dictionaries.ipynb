{
 "cells": [
  {
   "cell_type": "markdown",
   "metadata": {},
   "source": [
    "Dictionaries are key-value pairs\n",
    "\n",
    "They are unordered\n",
    "\n",
    "They are mutable\n",
    "\n",
    "keys are unique\n",
    "\n",
    "Keys must be immutable.Tuples can be keys but not lists\n",
    "\n",
    "values not so\n",
    "\n",
    "internally implemented as hashtables"
   ]
  },
  {
   "cell_type": "code",
   "execution_count": 2,
   "metadata": {},
   "outputs": [
    {
     "data": {
      "text/plain": [
       "{'Mother': 'Asenath', 'Father': 'John'}"
      ]
     },
     "execution_count": 2,
     "metadata": {},
     "output_type": "execute_result"
    }
   ],
   "source": [
    "# Creation of a dictionary\n",
    "My_Dict={'Mother':'Asenath','Father':'John'}\n",
    "My_Dict"
   ]
  },
  {
   "cell_type": "code",
   "execution_count": 16,
   "metadata": {},
   "outputs": [
    {
     "data": {
      "text/plain": [
       "{'First_Name': 'Ariel', 'Second_Name': 'Ombura', 'Last_Name': 'Achila'}"
      ]
     },
     "execution_count": 16,
     "metadata": {},
     "output_type": "execute_result"
    }
   ],
   "source": [
    "# Alternative construction of dictionary\n",
    "My_name=dict(First_Name='Ariel',Second_Name='Ombura',Last_Name='Achila')\n",
    "My_name"
   ]
  },
  {
   "cell_type": "code",
   "execution_count": 21,
   "metadata": {},
   "outputs": [
    {
     "name": "stdout",
     "output_type": "stream",
     "text": [
      "[('One', 1), ('Two', 2), ('three', 3), ('Four', 4), ('Five', 5), ('Six', 6)]\n"
     ]
    },
    {
     "data": {
      "text/plain": [
       "{'One': 1, 'Two': 2, 'three': 3, 'Four': 4, 'Five': 5, 'Six': 6}"
      ]
     },
     "execution_count": 21,
     "metadata": {},
     "output_type": "execute_result"
    }
   ],
   "source": [
    "#Also dictionaries can be made from lists\n",
    "L1=['One','Two','three','Four','Five','Six']\n",
    "L2=[1,2,3,4,5,6]\n",
    "#Create a zip object\n",
    "L_zip=zip(L1,L2)\n",
    "#convert zip to list\n",
    "zipped_L=list(L_zip)\n",
    "print(zipped_L)\n",
    "dct=dict((x,y) for x,y in zipped_L)\n",
    "dct"
   ]
  },
  {
   "cell_type": "code",
   "execution_count": 22,
   "metadata": {},
   "outputs": [
    {
     "data": {
      "text/plain": [
       "{'One': 1, 'Two': 2, 'three': 3, 'Four': 4, 'Five': 5, 'Six': 6}"
      ]
     },
     "execution_count": 22,
     "metadata": {},
     "output_type": "execute_result"
    }
   ],
   "source": [
    "#The above can be reduced to\n",
    "dict(zip(L1,L2))"
   ]
  },
  {
   "cell_type": "code",
   "execution_count": 28,
   "metadata": {},
   "outputs": [
    {
     "data": {
      "text/plain": [
       "{'Bruno': 'Player',\n",
       " 'Pogba': 'Player',\n",
       " 'Varane': 'Player',\n",
       " 'Maguire': 'Player',\n",
       " 'Sancho': 'Player'}"
      ]
     },
     "execution_count": 28,
     "metadata": {},
     "output_type": "execute_result"
    }
   ],
   "source": [
    "#Other alternative of dictionary Creation\n",
    "# D = dict.fromkeys(keys,values)\n",
    "#Particularly useful when the keys have a common value\n",
    "Man_utd=['Bruno','Pogba','Varane','Maguire','Sancho']\n",
    "Role='Player'\n",
    "#Dictionary of manchester united players here can be created by\n",
    "Man_Squad_Dict=dict.fromkeys(Man_utd,Role)\n",
    "Man_Squad_Dict"
   ]
  },
  {
   "cell_type": "code",
   "execution_count": 10,
   "metadata": {},
   "outputs": [
    {
     "data": {
      "text/plain": [
       "{'Mother': 'Asenath',\n",
       " 'Father': 'Joseph',\n",
       " 'Wife': 'Maureen',\n",
       " 'Name': 'Mary',\n",
       " 'Son': 'Jesus'}"
      ]
     },
     "execution_count": 10,
     "metadata": {},
     "output_type": "execute_result"
    }
   ],
   "source": [
    "#Adding key-value pair to the dictionary\n",
    "My_Dict['Wife']='Maureen'\n",
    "My_Dict"
   ]
  },
  {
   "cell_type": "code",
   "execution_count": 11,
   "metadata": {},
   "outputs": [
    {
     "data": {
      "text/plain": [
       "'Asenath'"
      ]
     },
     "execution_count": 11,
     "metadata": {},
     "output_type": "execute_result"
    }
   ],
   "source": [
    "#Accessing values by keys not offsets\n",
    "My_Dict['Mother']"
   ]
  },
  {
   "cell_type": "code",
   "execution_count": 13,
   "metadata": {},
   "outputs": [
    {
     "data": {
      "text/plain": [
       "{'Mother': 'Asenath',\n",
       " 'Father': 'Joseph',\n",
       " 'Wife': 'Maureen',\n",
       " 'Name': 'Mary',\n",
       " 'Son': 'Jesus',\n",
       " 'Step-Father': 'Joseph'}"
      ]
     },
     "execution_count": 13,
     "metadata": {},
     "output_type": "execute_result"
    }
   ],
   "source": [
    "#Merging Dictionaries\n",
    "#updating overwrites any similar keys between the two dictionaries\n",
    "Her_Dict={'Name':'Mary','Son':'Jesus','Step-Father':'Joseph'}\n",
    "\n",
    "My_Dict.update(Her_Dict)\n",
    "\n",
    "My_Dict"
   ]
  },
  {
   "cell_type": "code",
   "execution_count": 35,
   "metadata": {},
   "outputs": [
    {
     "name": "stdout",
     "output_type": "stream",
     "text": [
      "{'Matches_Played': {'Leeds': (5, 1), 'Southampton': (1, 1), 'Wolves': (1, 0)}}\n"
     ]
    }
   ],
   "source": [
    "#Nested Dictionary\n",
    "Season={'Matches_Played':{'Leeds':(5,1),'Southampton':(1,1),'Wolves':(1,0)}}\n",
    "print(Season)"
   ]
  },
  {
   "cell_type": "code",
   "execution_count": 36,
   "metadata": {},
   "outputs": [
    {
     "data": {
      "text/plain": [
       "(1, 0)"
      ]
     },
     "execution_count": 36,
     "metadata": {},
     "output_type": "execute_result"
    }
   ],
   "source": [
    "#Accessing nested wolves\n",
    "Season['Matches_Played']['Wolves']"
   ]
  },
  {
   "cell_type": "code",
   "execution_count": 37,
   "metadata": {},
   "outputs": [
    {
     "data": {
      "text/plain": [
       "False"
      ]
     },
     "execution_count": 37,
     "metadata": {},
     "output_type": "execute_result"
    }
   ],
   "source": [
    "#Membership test\n",
    "'Age' in My_Dict"
   ]
  },
  {
   "cell_type": "code",
   "execution_count": 50,
   "metadata": {},
   "outputs": [
    {
     "data": {
      "text/plain": [
       "['Mother', 'Father', 'Wife', 'Name', 'Son', 'Step-Father']"
      ]
     },
     "execution_count": 50,
     "metadata": {},
     "output_type": "execute_result"
    }
   ],
   "source": [
    "#List of keys of the dictionary\n",
    "list(My_Dict.keys())"
   ]
  },
  {
   "cell_type": "code",
   "execution_count": 51,
   "metadata": {},
   "outputs": [
    {
     "data": {
      "text/plain": [
       "['Asenath', 'Joseph', 'Maureen', 'Mary', 'Jesus', 'Joseph']"
      ]
     },
     "execution_count": 51,
     "metadata": {},
     "output_type": "execute_result"
    }
   ],
   "source": [
    "#List of values of the Dictionary\n",
    "list(My_Dict.values())"
   ]
  },
  {
   "cell_type": "code",
   "execution_count": 49,
   "metadata": {},
   "outputs": [
    {
     "data": {
      "text/plain": [
       "[('Mother', 'Asenath'),\n",
       " ('Father', 'Joseph'),\n",
       " ('Wife', 'Maureen'),\n",
       " ('Name', 'Mary'),\n",
       " ('Son', 'Jesus'),\n",
       " ('Step-Father', 'Joseph')]"
      ]
     },
     "execution_count": 49,
     "metadata": {},
     "output_type": "execute_result"
    }
   ],
   "source": [
    "#List of key-value pair tuples\n",
    "list(My_Dict.items())"
   ]
  },
  {
   "cell_type": "code",
   "execution_count": 42,
   "metadata": {},
   "outputs": [
    {
     "data": {
      "text/plain": [
       "{'Mother': 'Asenath',\n",
       " 'Father': 'Joseph',\n",
       " 'Wife': 'Maureen',\n",
       " 'Name': 'Mary',\n",
       " 'Son': 'Jesus',\n",
       " 'Step-Father': 'Joseph'}"
      ]
     },
     "execution_count": 42,
     "metadata": {},
     "output_type": "execute_result"
    }
   ],
   "source": [
    "#Making a copy of a dictionary\n",
    "My_Dict_copy=My_Dict.copy()\n",
    "My_Dict_copy"
   ]
  },
  {
   "cell_type": "code",
   "execution_count": 44,
   "metadata": {},
   "outputs": [
    {
     "name": "stdout",
     "output_type": "stream",
     "text": [
      "{}\n",
      "{'Mother': 'Asenath', 'Father': 'Joseph', 'Wife': 'Maureen', 'Name': 'Mary', 'Son': 'Jesus', 'Step-Father': 'Joseph'}\n"
     ]
    }
   ],
   "source": [
    "#Remove all items in the dictionary\n",
    "My_Dict_copy.clear()\n",
    "print(My_Dict_copy)\n",
    "print(My_Dict)"
   ]
  },
  {
   "cell_type": "markdown",
   "metadata": {},
   "source": [
    "Just like in list calling the copy method creats a new object "
   ]
  },
  {
   "cell_type": "code",
   "execution_count": 62,
   "metadata": {},
   "outputs": [
    {
     "data": {
      "text/plain": [
       "{0: 0, 1: 3, 2: 6, 3: 9, 4: 12, 5: 15, 6: 18, 7: 21, 8: 24, 9: 27}"
      ]
     },
     "execution_count": 62,
     "metadata": {},
     "output_type": "execute_result"
    }
   ],
   "source": [
    "#Dictionary Comprehension\n",
    "T = {k: k*3 for k in range(10)}\n",
    "T"
   ]
  },
  {
   "cell_type": "code",
   "execution_count": 63,
   "metadata": {},
   "outputs": [
    {
     "name": "stdout",
     "output_type": "stream",
     "text": [
      "{0: 0, 1: 3, 3: 9, 4: 12, 5: 15, 6: 18, 7: 21, 8: 24, 9: 27}\n",
      "{'Mother': 'Asenath', 'Wife': 'Maureen', 'Name': 'Mary', 'Son': 'Jesus', 'Step-Father': 'Joseph'}\n"
     ]
    }
   ],
   "source": [
    "#Delete entry in a dictionary\n",
    "del T[2]\n",
    "print(T)\n",
    "del My_Dict['Father']\n",
    "print(My_Dict)"
   ]
  },
  {
   "cell_type": "code",
   "execution_count": 64,
   "metadata": {},
   "outputs": [
    {
     "data": {
      "text/plain": [
       "'Asenath'"
      ]
     },
     "execution_count": 64,
     "metadata": {},
     "output_type": "execute_result"
    }
   ],
   "source": [
    "#Get method for keys that are present\n",
    "My_Dict.get('Mother')"
   ]
  },
  {
   "cell_type": "code",
   "execution_count": 66,
   "metadata": {},
   "outputs": [
    {
     "name": "stdout",
     "output_type": "stream",
     "text": [
      "None\n"
     ]
    }
   ],
   "source": [
    "#Keys that are missing\n",
    "print(My_Dict.get('Brother'))"
   ]
  },
  {
   "cell_type": "code",
   "execution_count": 67,
   "metadata": {},
   "outputs": [
    {
     "data": {
      "text/plain": [
       "'Frank'"
      ]
     },
     "execution_count": 67,
     "metadata": {},
     "output_type": "execute_result"
    }
   ],
   "source": [
    "#Taking care of this\n",
    "My_Dict.get('Brother','Frank')"
   ]
  },
  {
   "cell_type": "code",
   "execution_count": 70,
   "metadata": {},
   "outputs": [
    {
     "name": "stdout",
     "output_type": "stream",
     "text": [
      "{'Mother': 'Asenath', 'Wife': 'Maureen', 'Name': 'Mary', 'Son': 'Jesus', 'Step-Father': 'Joseph'}\n"
     ]
    }
   ],
   "source": [
    "# pop method deletes a key from a dictionary and returns the value it had\n",
    "print(My_Dict)"
   ]
  },
  {
   "cell_type": "code",
   "execution_count": 71,
   "metadata": {},
   "outputs": [
    {
     "name": "stdout",
     "output_type": "stream",
     "text": [
      "Asenath\n"
     ]
    }
   ],
   "source": [
    "print(My_Dict.pop('Mother'))"
   ]
  },
  {
   "cell_type": "code",
   "execution_count": 72,
   "metadata": {},
   "outputs": [
    {
     "data": {
      "text/plain": [
       "{'Wife': 'Maureen', 'Name': 'Mary', 'Son': 'Jesus', 'Step-Father': 'Joseph'}"
      ]
     },
     "execution_count": 72,
     "metadata": {},
     "output_type": "execute_result"
    }
   ],
   "source": [
    "My_Dict"
   ]
  },
  {
   "cell_type": "code",
   "execution_count": 75,
   "metadata": {},
   "outputs": [
    {
     "data": {
      "text/plain": [
       "('Son', 'Jesus')"
      ]
     },
     "execution_count": 75,
     "metadata": {},
     "output_type": "execute_result"
    }
   ],
   "source": [
    "#Deletes and returns the last item in the list\n",
    "My_Dict.popitem()"
   ]
  },
  {
   "cell_type": "code",
   "execution_count": 74,
   "metadata": {},
   "outputs": [
    {
     "data": {
      "text/plain": [
       "{'Wife': 'Maureen', 'Name': 'Mary', 'Son': 'Jesus'}"
      ]
     },
     "execution_count": 74,
     "metadata": {},
     "output_type": "execute_result"
    }
   ],
   "source": [
    "My_Dict"
   ]
  },
  {
   "cell_type": "code",
   "execution_count": 77,
   "metadata": {},
   "outputs": [
    {
     "name": "stdout",
     "output_type": "stream",
     "text": [
      "Wife\n",
      "Name\n"
     ]
    }
   ],
   "source": [
    "#For key in dictionary\n",
    "for key in My_Dict:\n",
    "    print(key)"
   ]
  },
  {
   "cell_type": "code",
   "execution_count": 78,
   "metadata": {},
   "outputs": [
    {
     "name": "stdout",
     "output_type": "stream",
     "text": [
      "Wife\n",
      "Name\n"
     ]
    }
   ],
   "source": [
    "#The above can be done as follows\n",
    "for key in My_Dict.keys():\n",
    "    print(key)"
   ]
  },
  {
   "cell_type": "code",
   "execution_count": 81,
   "metadata": {},
   "outputs": [
    {
     "name": "stdout",
     "output_type": "stream",
     "text": [
      "Maureen\n",
      "Mary\n"
     ]
    }
   ],
   "source": [
    "#Printing values\n",
    "for i in My_Dict.values():\n",
    "    print(i)"
   ]
  },
  {
   "cell_type": "code",
   "execution_count": 82,
   "metadata": {},
   "outputs": [
    {
     "name": "stdout",
     "output_type": "stream",
     "text": [
      "Wife Maureen\n",
      "Name Mary\n"
     ]
    }
   ],
   "source": [
    "for key,value in My_Dict.items():\n",
    "    print(key,value)"
   ]
  },
  {
   "cell_type": "code",
   "execution_count": null,
   "metadata": {},
   "outputs": [],
   "source": []
  }
 ],
 "metadata": {
  "kernelspec": {
   "display_name": "Python 3",
   "language": "python",
   "name": "python3"
  },
  "language_info": {
   "codemirror_mode": {
    "name": "ipython",
    "version": 3
   },
   "file_extension": ".py",
   "mimetype": "text/x-python",
   "name": "python",
   "nbconvert_exporter": "python",
   "pygments_lexer": "ipython3",
   "version": "3.8.5"
  }
 },
 "nbformat": 4,
 "nbformat_minor": 4
}
