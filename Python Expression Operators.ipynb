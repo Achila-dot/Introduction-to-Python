{
 "cells": [
  {
   "cell_type": "markdown",
   "metadata": {},
   "source": [
    "yield x                        Generator function send protocol\n",
    "\n",
    "lambda args: expression        Anonymous function generation\n",
    "\n",
    "x if y else z                  Ternary selection (x is evaluated only if y is true)\n",
    "\n",
    "x or y                         Logical OR (y is evaluated only if x is false)\n",
    "\n",
    "x and y                        Logical AND (y is evaluated only if x is true)\n",
    "\n",
    "not x                          Logical negation\n",
    "\n",
    "x in y, x not in y             Membership (iterables, sets)\n",
    "\n",
    "x is y, x is not y             Object identity tests\n",
    "\n",
    "x < y, x <= y, x > y, x >= y   Magnitude comparison, set subset and superset;\n",
    "\n",
    "x == y, x != y                 Value equality operators\n",
    "\n",
    "x | y                          Bitwise OR, set union\n",
    "\n",
    "x ^ y                          Bitwise XOR, set symmetric difference\n",
    "\n",
    "x & y                          Bitwise AND, set intersection\n",
    "\n",
    "x << y, x >> y                 Shift x left or right by y bits\n",
    "\n",
    "x + y                          Addition,concatenation;\n",
    "\n",
    "x – y                          Subtraction, set difference\n",
    "\n",
    "x * y                          Multiplication, repetition;\n",
    "\n",
    "x % y                          Remainder, format;\n",
    "\n",
    "x / y, x // y                  Division: true and floor\n",
    "\n",
    "−x, +x                         Negation, identity\n",
    "\n",
    "˜x                             Bitwise NOT (inversion)\n",
    "\n",
    "x ** y                         Power (exponentiation)\n",
    "\n",
    "x[i]                           Indexing (sequence, mapping, others)\n",
    "\n",
    "x[i:j:k]                       Slicing\n",
    "\n",
    "x(...)                         Call (function, method, class, other callable)\n",
    "\n",
    "x.attr                         Attribute reference\n",
    "\n",
    "(...)                          Tuple, expression, generator expression\n",
    "\n",
    "[...]                          List, list comprehension\n",
    "\n",
    "{...}                          Dictionary, set, set and dictionary comprehensions"
   ]
  },
  {
   "cell_type": "code",
   "execution_count": null,
   "metadata": {},
   "outputs": [],
   "source": []
  }
 ],
 "metadata": {
  "kernelspec": {
   "display_name": "Python 3",
   "language": "python",
   "name": "python3"
  },
  "language_info": {
   "codemirror_mode": {
    "name": "ipython",
    "version": 3
   },
   "file_extension": ".py",
   "mimetype": "text/x-python",
   "name": "python",
   "nbconvert_exporter": "python",
   "pygments_lexer": "ipython3",
   "version": "3.8.5"
  }
 },
 "nbformat": 4,
 "nbformat_minor": 4
}
