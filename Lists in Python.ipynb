{
 "cells": [
  {
   "cell_type": "markdown",
   "metadata": {},
   "source": [
    "# List Methods"
   ]
  },
  {
   "cell_type": "code",
   "execution_count": 1,
   "metadata": {},
   "outputs": [
    {
     "data": {
      "text/plain": [
       "['banana']"
      ]
     },
     "execution_count": 1,
     "metadata": {},
     "output_type": "execute_result"
    }
   ],
   "source": [
    "#Creating and empty list\n",
    "mylist=[]\n",
    "#Adding an item to the empty list\n",
    "mylist.append('banana')\n",
    "mylist"
   ]
  },
  {
   "cell_type": "code",
   "execution_count": 2,
   "metadata": {},
   "outputs": [
    {
     "data": {
      "text/plain": [
       "[]"
      ]
     },
     "execution_count": 2,
     "metadata": {},
     "output_type": "execute_result"
    }
   ],
   "source": [
    "#Alternative methods of list creation\n",
    "List=list()\n",
    "List"
   ]
  },
  {
   "cell_type": "code",
   "execution_count": 3,
   "metadata": {},
   "outputs": [
    {
     "data": {
      "text/plain": [
       "['banana', 'mango', 'orange']"
      ]
     },
     "execution_count": 3,
     "metadata": {},
     "output_type": "execute_result"
    }
   ],
   "source": [
    "#merging two lists\n",
    "herlist=['mango','orange']\n",
    "mylist.extend(herlist)\n",
    "mylist"
   ]
  },
  {
   "cell_type": "code",
   "execution_count": 4,
   "metadata": {},
   "outputs": [
    {
     "data": {
      "text/plain": [
       "[1, 2, 3, 4, 5, 6, 7]"
      ]
     },
     "execution_count": 4,
     "metadata": {},
     "output_type": "execute_result"
    }
   ],
   "source": [
    "# You can also concatenate two lists\n",
    "The_Lst1=[1,2,3,4]\n",
    "The_Lst2=The_Lst1+[5,6,7]\n",
    "The_Lst2"
   ]
  },
  {
   "cell_type": "code",
   "execution_count": 5,
   "metadata": {},
   "outputs": [
    {
     "data": {
      "text/plain": [
       "['banana', 'mango', 'orange', 'avocado']"
      ]
     },
     "execution_count": 5,
     "metadata": {},
     "output_type": "execute_result"
    }
   ],
   "source": [
    "#Adding an element to the list\n",
    "#specify the index and the element\n",
    "mylist.insert(3,'avocado')\n",
    "mylist"
   ]
  },
  {
   "cell_type": "code",
   "execution_count": 6,
   "metadata": {},
   "outputs": [
    {
     "data": {
      "text/plain": [
       "1"
      ]
     },
     "execution_count": 6,
     "metadata": {},
     "output_type": "execute_result"
    }
   ],
   "source": [
    "#Checking the index of an item\n",
    "mylist.index('mango')"
   ]
  },
  {
   "cell_type": "code",
   "execution_count": 7,
   "metadata": {},
   "outputs": [
    {
     "data": {
      "text/plain": [
       "'avocado'"
      ]
     },
     "execution_count": 7,
     "metadata": {},
     "output_type": "execute_result"
    }
   ],
   "source": [
    "#getting items from the list\n",
    "#while removing the item\n",
    "#Removes the last item by default\n",
    "item=mylist.pop()\n",
    "item"
   ]
  },
  {
   "cell_type": "code",
   "execution_count": 8,
   "metadata": {},
   "outputs": [
    {
     "data": {
      "text/plain": [
       "'banana'"
      ]
     },
     "execution_count": 8,
     "metadata": {},
     "output_type": "execute_result"
    }
   ],
   "source": [
    "#removing item by specifying index\n",
    "x=mylist.pop(0)\n",
    "x"
   ]
  },
  {
   "cell_type": "code",
   "execution_count": 9,
   "metadata": {},
   "outputs": [
    {
     "name": "stdout",
     "output_type": "stream",
     "text": [
      "None\n"
     ]
    }
   ],
   "source": [
    "#You could also remove items by the 'remove' method\n",
    "Car=['Toyota','Benz','Ferrari','Nissan']\n",
    "Nisan=Car.remove('Toyota') #This doesn't store the removed item\n",
    "print(Nisan)"
   ]
  },
  {
   "cell_type": "code",
   "execution_count": 10,
   "metadata": {},
   "outputs": [
    {
     "data": {
      "text/plain": [
       "[]"
      ]
     },
     "execution_count": 10,
     "metadata": {},
     "output_type": "execute_result"
    }
   ],
   "source": [
    "#You can remove all elements in a list using clear method\n",
    "mylist.clear()\n",
    "mylist"
   ]
  },
  {
   "cell_type": "code",
   "execution_count": 11,
   "metadata": {},
   "outputs": [
    {
     "data": {
      "text/plain": [
       "[40, 48, 70, 90, 86, 75]"
      ]
     },
     "execution_count": 11,
     "metadata": {},
     "output_type": "execute_result"
    }
   ],
   "source": [
    "#Can also use the del method to delete items\n",
    "Listicle=[40,48,70,90,37,86,75]\n",
    "#Delete item at index 4\n",
    "del Listicle[4]\n",
    "Listicle"
   ]
  },
  {
   "cell_type": "code",
   "execution_count": 12,
   "metadata": {},
   "outputs": [
    {
     "data": {
      "text/plain": [
       "[70, 90, 86, 75]"
      ]
     },
     "execution_count": 12,
     "metadata": {},
     "output_type": "execute_result"
    }
   ],
   "source": [
    "#Delete a range of items on the List\n",
    "del Listicle[0:2]\n",
    "Listicle"
   ]
  },
  {
   "cell_type": "code",
   "execution_count": 13,
   "metadata": {},
   "outputs": [
    {
     "data": {
      "text/plain": [
       "['Guerrero', 'Eddie', 'Leighfield', 'Bradshow', 'John']"
      ]
     },
     "execution_count": 13,
     "metadata": {},
     "output_type": "execute_result"
    }
   ],
   "source": [
    "#Changing the order of items on the list\n",
    "BlackList=['John','Bradshow','Leighfield','Eddie','Guerrero']\n",
    "BlackList.reverse()\n",
    "BlackList"
   ]
  },
  {
   "cell_type": "code",
   "execution_count": 14,
   "metadata": {},
   "outputs": [
    {
     "data": {
      "text/plain": [
       "['John', 'Bradshow', 'Leighfield', 'Eddie', 'Guerrero']"
      ]
     },
     "execution_count": 14,
     "metadata": {},
     "output_type": "execute_result"
    }
   ],
   "source": [
    "#To avoid inplace reversal use the reversed method\n",
    "# Just as sorted does work but in this case you wrap it in a list method\n",
    "Copy_BlackList=list(reversed(BlackList))\n",
    "Copy_BlackList"
   ]
  },
  {
   "cell_type": "code",
   "execution_count": 15,
   "metadata": {},
   "outputs": [
    {
     "data": {
      "text/plain": [
       "[1, 4, 4, 5, 7, 8, 9, 13]"
      ]
     },
     "execution_count": 15,
     "metadata": {},
     "output_type": "execute_result"
    }
   ],
   "source": [
    "#List of Numbers\n",
    "Num_List=[1,4,5,7,8,9,13,4]\n",
    "#Using the sorting method\n",
    "#Changes the list inplace\n",
    "Num_List.sort()\n",
    "Num_List"
   ]
  },
  {
   "cell_type": "code",
   "execution_count": 16,
   "metadata": {},
   "outputs": [
    {
     "data": {
      "text/plain": [
       "[-7, 0, 3, 6, 9, 10]"
      ]
     },
     "execution_count": 16,
     "metadata": {},
     "output_type": "execute_result"
    }
   ],
   "source": [
    "#To avoid changing lists inplace,create new list\n",
    "To_List=[3,6,-7,9,0,10]\n",
    "Srt_To_List=sorted(To_List)\n",
    "Srt_To_List"
   ]
  },
  {
   "cell_type": "code",
   "execution_count": 17,
   "metadata": {},
   "outputs": [
    {
     "data": {
      "text/plain": [
       "['ABD', 'aBe', 'abc']"
      ]
     },
     "execution_count": 17,
     "metadata": {},
     "output_type": "execute_result"
    }
   ],
   "source": [
    "#More on sorting\n",
    "L_ist=['abc','ABD','aBe']\n",
    "L_ist.sort() #Sort with mixed case\n",
    "L_ist"
   ]
  },
  {
   "cell_type": "code",
   "execution_count": 18,
   "metadata": {},
   "outputs": [
    {
     "data": {
      "text/plain": [
       "['abc', 'ABD', 'aBe']"
      ]
     },
     "execution_count": 18,
     "metadata": {},
     "output_type": "execute_result"
    }
   ],
   "source": [
    "#Normalize to mixed case then sort\n",
    "L_ist.sort(key=str.lower)\n",
    "L_ist"
   ]
  },
  {
   "cell_type": "code",
   "execution_count": 19,
   "metadata": {},
   "outputs": [
    {
     "data": {
      "text/plain": [
       "['aBe', 'ABD', 'abc']"
      ]
     },
     "execution_count": 19,
     "metadata": {},
     "output_type": "execute_result"
    }
   ],
   "source": [
    "#Changing sort order\n",
    "L_ist.sort(key=str.lower,reverse=True)\n",
    "L_ist"
   ]
  },
  {
   "cell_type": "code",
   "execution_count": 20,
   "metadata": {},
   "outputs": [
    {
     "data": {
      "text/plain": [
       "[6, 6, 6, 6, 6, 6, 6, 6, 6, 6]"
      ]
     },
     "execution_count": 20,
     "metadata": {},
     "output_type": "execute_result"
    }
   ],
   "source": [
    "#Replicating elements in a list\n",
    "#Creates a list of ten 6s\n",
    "L=[6]*10\n",
    "L"
   ]
  },
  {
   "cell_type": "code",
   "execution_count": 21,
   "metadata": {},
   "outputs": [
    {
     "data": {
      "text/plain": [
       "2"
      ]
     },
     "execution_count": 21,
     "metadata": {},
     "output_type": "execute_result"
    }
   ],
   "source": [
    "#Showing number of occurrence of item\n",
    "M_anch=['Fred','Cristiano','Bruno','Sancho','Rashford','Varane','Maguire','Varane']\n",
    "#To show the number of times 'Varane' appears use the count method\n",
    "M_anch.count('Varane')"
   ]
  },
  {
   "cell_type": "code",
   "execution_count": 22,
   "metadata": {},
   "outputs": [
    {
     "data": {
      "text/plain": [
       "1"
      ]
     },
     "execution_count": 22,
     "metadata": {},
     "output_type": "execute_result"
    }
   ],
   "source": [
    "#'Bruno' appearance\n",
    "M_anch.count('Bruno')"
   ]
  },
  {
   "cell_type": "markdown",
   "metadata": {},
   "source": [
    "# Slicing and Indexing"
   ]
  },
  {
   "cell_type": "code",
   "execution_count": 24,
   "metadata": {},
   "outputs": [
    {
     "data": {
      "text/plain": [
       "[6, 7, 8, 9]"
      ]
     },
     "execution_count": 24,
     "metadata": {},
     "output_type": "execute_result"
    }
   ],
   "source": [
    "#A list called aList\n",
    "aList=[5,6,7,8,9,11,12,13,14]\n",
    "#slicing last index is excluded\n",
    "a=aList[1:5]\n",
    "a\n"
   ]
  },
  {
   "cell_type": "code",
   "execution_count": 26,
   "metadata": {},
   "outputs": [
    {
     "data": {
      "text/plain": [
       "[5, 6, 7, 8]"
      ]
     },
     "execution_count": 26,
     "metadata": {},
     "output_type": "execute_result"
    }
   ],
   "source": [
    "#Not specifying that start index\n",
    "b=aList[:4]\n",
    "#Goes all way to the beginning\n",
    "b"
   ]
  },
  {
   "cell_type": "code",
   "execution_count": 27,
   "metadata": {},
   "outputs": [
    {
     "data": {
      "text/plain": [
       "[9, 11, 12, 13, 14]"
      ]
     },
     "execution_count": 27,
     "metadata": {},
     "output_type": "execute_result"
    }
   ],
   "source": [
    "#Not specifying the end index\n",
    "c=aList[4:]\n",
    "#Goas all way to the beginning\n",
    "c"
   ]
  },
  {
   "cell_type": "code",
   "execution_count": 29,
   "metadata": {},
   "outputs": [
    {
     "data": {
      "text/plain": [
       "[6, 8, 11]"
      ]
     },
     "execution_count": 29,
     "metadata": {},
     "output_type": "execute_result"
    }
   ],
   "source": [
    "#Working with the step index\n",
    "d=aList[1:7:2]\n",
    "#selects every other item from index 1 to index 7\n",
    "d"
   ]
  },
  {
   "cell_type": "code",
   "execution_count": 30,
   "metadata": {},
   "outputs": [
    {
     "data": {
      "text/plain": [
       "[14, 13, 12, 11, 9, 8, 7, 6, 5]"
      ]
     },
     "execution_count": 30,
     "metadata": {},
     "output_type": "execute_result"
    }
   ],
   "source": [
    "#Negative step index can be used to reverse the list\n",
    "e=aList[::-1]\n",
    "#[:] is a copy of the list,the -1 reverses the list\n",
    "e"
   ]
  },
  {
   "cell_type": "markdown",
   "metadata": {},
   "source": [
    "Copying Lists"
   ]
  },
  {
   "cell_type": "code",
   "execution_count": 31,
   "metadata": {},
   "outputs": [
    {
     "name": "stdout",
     "output_type": "stream",
     "text": [
      "['kales', 'Spinach', 'Managu', 'Cabbages', 'Tomatoes']\n",
      "['kales', 'Spinach', 'Managu', 'Cabbages', 'Tomatoes']\n"
     ]
    }
   ],
   "source": [
    "#Creating list\n",
    "blist_org=['kales','Spinach','Managu','Cabbages','Tomatoes']\n",
    "\"\"\"\n",
    "You Can create a copy of the list above by assigning it to a different variable\n",
    "But this has the effect that if you alter the copy, it changes the original\n",
    "as they refer to the same object in memory\n",
    "This is shown below.\n",
    "\"\"\"\n",
    "blist_cpy=blist_org\n",
    "print(blist_cpy)\n",
    "print(blist_org)"
   ]
  },
  {
   "cell_type": "code",
   "execution_count": 33,
   "metadata": {},
   "outputs": [
    {
     "name": "stdout",
     "output_type": "stream",
     "text": [
      "['kales', 'Spinach', 'Managu', 'Cabbages', 'Tomatoes', 'Onions', 'Onions']\n",
      "['kales', 'Spinach', 'Managu', 'Cabbages', 'Tomatoes', 'Onions', 'Onions']\n"
     ]
    }
   ],
   "source": [
    "\"\"\"\n",
    "Now let us alter the copy to demonstrate the above statement\n",
    "\"\"\"\n",
    "blist_cpy.append('Onions')\n",
    "print(blist_cpy)\n",
    "print(blist_org)"
   ]
  },
  {
   "cell_type": "code",
   "execution_count": 36,
   "metadata": {},
   "outputs": [
    {
     "name": "stdout",
     "output_type": "stream",
     "text": [
      "['kales', 'Spinach', 'Managu', 'Cabbages', 'Tomatoes', 'Onions', 'Onions']\n",
      "['kales', 'Spinach', 'Managu', 'Cabbages', 'Tomatoes', 'Onions', 'Onions']\n",
      "['kales', 'Spinach', 'Managu', 'Cabbages', 'Tomatoes', 'Onions']\n",
      "['kales', 'Spinach', 'Managu', 'Cabbages', 'Tomatoes', 'Onions', 'Onions']\n"
     ]
    }
   ],
   "source": [
    "\"\"\"\n",
    "There are three ways of tackling the above\n",
    "\"\"\"\n",
    "#by the slicing method\n",
    "blist_cpy=blist_org[:]\n",
    "print(blist_cpy)\n",
    "print(blist_org)\n",
    "#You'll notice that the original isn't altered\n",
    "blist_cpy.pop()\n",
    "print(blist_cpy)\n",
    "print(blist_org)"
   ]
  },
  {
   "cell_type": "code",
   "execution_count": 39,
   "metadata": {},
   "outputs": [
    {
     "name": "stdout",
     "output_type": "stream",
     "text": [
      "['kales', 'Spinach', 'Managu', 'Cabbages', 'Tomatoes', 'Onions', 'Onions']\n",
      "['kales', 'Spinach', 'Managu', 'Cabbages', 'Tomatoes', 'Onions', 'Onions']\n",
      "['kales', 'Spinach', 'Managu', 'Cabbages', 'Tomatoes', 'Onions', 'Onions']\n",
      "['kales', 'Spinach', 'Managu', 'Cabbages', 'Tomatoes', 'Onions']\n"
     ]
    }
   ],
   "source": [
    "#By using the list function\n",
    "blist_cpy=list(blist_org)\n",
    "print(blist_cpy)\n",
    "print(blist_org)\n",
    "#You'll notice that the original stays an altered\n",
    "del blist_cpy[-1]\n",
    "print(blist_org)\n",
    "print(blist_cpy)"
   ]
  },
  {
   "cell_type": "code",
   "execution_count": 40,
   "metadata": {},
   "outputs": [
    {
     "name": "stdout",
     "output_type": "stream",
     "text": [
      "['kales', 'Spinach', 'Managu', 'Cabbages', 'Tomatoes', 'Onions', 'Onions']\n",
      "['kales', 'Spinach', 'Managu', 'Cabbages', 'Tomatoes', 'Onions', 'Onions']\n",
      "['kales', 'Spinach', 'Managu', 'Cabbages', 'Tomatoes', 'Onions', 'Onions']\n",
      "['kales', 'Spinach', 'Managu', 'Cabbages', 'Tomatoes', 'Onions']\n"
     ]
    }
   ],
   "source": [
    "#calling the copy() method\n",
    "blist_cpy=blist_org.copy()\n",
    "print(blist_cpy)\n",
    "print(blist_org)\n",
    "#You'll notice that the original stays an altered\n",
    "blist_cpy.remove('Onions')\n",
    "print(blist_org)\n",
    "print(blist_cpy)"
   ]
  },
  {
   "cell_type": "markdown",
   "metadata": {},
   "source": [
    "List Comprehensions"
   ]
  },
  {
   "cell_type": "code",
   "execution_count": 41,
   "metadata": {},
   "outputs": [
    {
     "name": "stdout",
     "output_type": "stream",
     "text": [
      "[3, 4, 5, 6, 7, 8, 9]\n",
      "[27, 64, 125, 216, 343, 512, 729]\n"
     ]
    }
   ],
   "source": [
    "t=[3,4,5,6,7,8,9]\n",
    "u=[k*k*k for k in t]\n",
    "\n",
    "print(t)\n",
    "print(u)"
   ]
  },
  {
   "cell_type": "code",
   "execution_count": null,
   "metadata": {},
   "outputs": [],
   "source": []
  }
 ],
 "metadata": {
  "kernelspec": {
   "display_name": "Python 3",
   "language": "python",
   "name": "python3"
  },
  "language_info": {
   "codemirror_mode": {
    "name": "ipython",
    "version": 3
   },
   "file_extension": ".py",
   "mimetype": "text/x-python",
   "name": "python",
   "nbconvert_exporter": "python",
   "pygments_lexer": "ipython3",
   "version": "3.8.5"
  }
 },
 "nbformat": 4,
 "nbformat_minor": 4
}
