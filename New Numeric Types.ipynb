{
 "cells": [
  {
   "cell_type": "markdown",
   "metadata": {},
   "source": [
    "decimal numbers: Are fixed-precision floating-point numbers.\n",
    "    \n",
    "fraction numbers: Are rational numbers with both a numerator and a denominator.\n",
    "\n",
    "used to work around the limitations and inherent inaccuracies of floating-point maths"
   ]
  },
  {
   "cell_type": "markdown",
   "metadata": {},
   "source": [
    "# Decimal"
   ]
  },
  {
   "cell_type": "code",
   "execution_count": 1,
   "metadata": {},
   "outputs": [
    {
     "data": {
      "text/plain": [
       "0.3333333333333333"
      ]
     },
     "execution_count": 1,
     "metadata": {},
     "output_type": "execute_result"
    }
   ],
   "source": [
    "1/3"
   ]
  },
  {
   "cell_type": "code",
   "execution_count": 2,
   "metadata": {},
   "outputs": [
    {
     "data": {
      "text/plain": [
       "1.1666666666666665"
      ]
     },
     "execution_count": 2,
     "metadata": {},
     "output_type": "execute_result"
    }
   ],
   "source": [
    "#Add two floating point numbers\n",
    "(2/3)+(1/2)"
   ]
  },
  {
   "cell_type": "code",
   "execution_count": 3,
   "metadata": {},
   "outputs": [
    {
     "data": {
      "text/plain": [
       "Decimal('4.141')"
      ]
     },
     "execution_count": 3,
     "metadata": {},
     "output_type": "execute_result"
    }
   ],
   "source": [
    "#Decimal:fixed precision\n",
    "import decimal\n",
    "d=decimal.Decimal('3.141')\n",
    "d+1"
   ]
  },
  {
   "cell_type": "code",
   "execution_count": 6,
   "metadata": {},
   "outputs": [
    {
     "name": "stdout",
     "output_type": "stream",
     "text": [
      "0.333\n",
      "0.3333\n",
      "0.33333\n"
     ]
    }
   ],
   "source": [
    "decimal.getcontext().prec=3 #defines decimal places\n",
    "print(decimal.Decimal('1')/decimal.Decimal('3'))\n",
    "decimal.getcontext().prec=4\n",
    "print(decimal.Decimal('1')/decimal.Decimal('3'))\n",
    "decimal.getcontext().prec=5\n",
    "print(decimal.Decimal('1')/decimal.Decimal('3'))"
   ]
  },
  {
   "cell_type": "markdown",
   "metadata": {},
   "source": [
    "# Fraction"
   ]
  },
  {
   "cell_type": "code",
   "execution_count": 11,
   "metadata": {},
   "outputs": [
    {
     "name": "stdout",
     "output_type": "stream",
     "text": [
      "2/7\n",
      "9/7\n"
     ]
    }
   ],
   "source": [
    "from fractions import Fraction\n",
    "f=Fraction(2,7)\n",
    "print(f)\n",
    "print(f+1)"
   ]
  },
  {
   "cell_type": "code",
   "execution_count": 12,
   "metadata": {},
   "outputs": [
    {
     "name": "stdout",
     "output_type": "stream",
     "text": [
      "3/4\n",
      "15/4\n"
     ]
    }
   ],
   "source": [
    "t=Fraction(3,4)\n",
    "print(t)\n",
    "print(t+3)"
   ]
  },
  {
   "cell_type": "code",
   "execution_count": 13,
   "metadata": {},
   "outputs": [
    {
     "name": "stdout",
     "output_type": "stream",
     "text": [
      "1/2\n",
      "11/2\n"
     ]
    }
   ],
   "source": [
    "y=Fraction(2,4)\n",
    "print(y)\n",
    "print(y+5)"
   ]
  },
  {
   "cell_type": "code",
   "execution_count": 16,
   "metadata": {},
   "outputs": [
    {
     "name": "stdout",
     "output_type": "stream",
     "text": [
      "11/8\n"
     ]
    }
   ],
   "source": [
    "print(y+Fraction(7,8))"
   ]
  },
  {
   "cell_type": "code",
   "execution_count": 15,
   "metadata": {},
   "outputs": [
    {
     "data": {
      "text/plain": [
       "Fraction(5, 4)"
      ]
     },
     "execution_count": 15,
     "metadata": {},
     "output_type": "execute_result"
    }
   ],
   "source": [
    "t+y"
   ]
  },
  {
   "cell_type": "code",
   "execution_count": null,
   "metadata": {},
   "outputs": [],
   "source": []
  }
 ],
 "metadata": {
  "kernelspec": {
   "display_name": "Python 3",
   "language": "python",
   "name": "python3"
  },
  "language_info": {
   "codemirror_mode": {
    "name": "ipython",
    "version": 3
   },
   "file_extension": ".py",
   "mimetype": "text/x-python",
   "name": "python",
   "nbconvert_exporter": "python",
   "pygments_lexer": "ipython3",
   "version": "3.8.5"
  }
 },
 "nbformat": 4,
 "nbformat_minor": 4
}
