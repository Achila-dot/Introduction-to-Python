{
 "cells": [
  {
   "cell_type": "markdown",
   "metadata": {},
   "source": [
    "# Resursion"
   ]
  },
  {
   "cell_type": "code",
   "execution_count": 1,
   "metadata": {},
   "outputs": [],
   "source": [
    "def mult(a,b):\n",
    "    if b==1:\n",
    "        return a\n",
    "    else:\n",
    "        return a+mult(a,b-1)"
   ]
  },
  {
   "cell_type": "code",
   "execution_count": 2,
   "metadata": {},
   "outputs": [
    {
     "data": {
      "text/plain": [
       "42"
      ]
     },
     "execution_count": 2,
     "metadata": {},
     "output_type": "execute_result"
    }
   ],
   "source": [
    "mult(6,7)"
   ]
  },
  {
   "cell_type": "code",
   "execution_count": 3,
   "metadata": {},
   "outputs": [
    {
     "data": {
      "text/plain": [
       "0"
      ]
     },
     "execution_count": 3,
     "metadata": {},
     "output_type": "execute_result"
    }
   ],
   "source": [
    "len([])"
   ]
  },
  {
   "cell_type": "code",
   "execution_count": 4,
   "metadata": {},
   "outputs": [],
   "source": [
    "def sumlist(L):\n",
    "    if not list(L):\n",
    "        return False\n",
    "    elif len(L)==0:\n",
    "        return 0\n",
    "    else:\n",
    "        return L[0]+sumlist(L[1:])"
   ]
  },
  {
   "cell_type": "code",
   "execution_count": 5,
   "metadata": {},
   "outputs": [
    {
     "data": {
      "text/plain": [
       "9"
      ]
     },
     "execution_count": 5,
     "metadata": {},
     "output_type": "execute_result"
    }
   ],
   "source": [
    "sumlist([4,2,3])"
   ]
  },
  {
   "cell_type": "code",
   "execution_count": 9,
   "metadata": {},
   "outputs": [],
   "source": [
    "def sum_of_list(L):\n",
    "    sum=0\n",
    "    for item in L:\n",
    "        if isinstance(item,int):\n",
    "            sum+=item\n",
    "        elif isinstance(item,list):\n",
    "            sum+=sum_of_list(item)\n",
    "    return sum"
   ]
  },
  {
   "cell_type": "code",
   "execution_count": 10,
   "metadata": {},
   "outputs": [
    {
     "data": {
      "text/plain": [
       "36"
      ]
     },
     "execution_count": 10,
     "metadata": {},
     "output_type": "execute_result"
    }
   ],
   "source": [
    "sum_of_list([1, [2, [3, 4], 5], 6, [7, 8]])"
   ]
  },
  {
   "cell_type": "code",
   "execution_count": 11,
   "metadata": {},
   "outputs": [],
   "source": [
    "def fact(n):\n",
    "    if n==0:\n",
    "        return 1\n",
    "    elif n==1:\n",
    "        return 1\n",
    "    else:\n",
    "        return n*fact(n-1)"
   ]
  },
  {
   "cell_type": "code",
   "execution_count": 12,
   "metadata": {},
   "outputs": [
    {
     "data": {
      "text/plain": [
       "6"
      ]
     },
     "execution_count": 12,
     "metadata": {},
     "output_type": "execute_result"
    }
   ],
   "source": [
    "fact(3)"
   ]
  },
  {
   "cell_type": "code",
   "execution_count": 13,
   "metadata": {},
   "outputs": [],
   "source": [
    "def fib(n):\n",
    "    if n==0:\n",
    "        return 0\n",
    "    elif n==1:\n",
    "        return 1\n",
    "    else:\n",
    "        return fib(n-1)+fib(n-2)"
   ]
  },
  {
   "cell_type": "code",
   "execution_count": 14,
   "metadata": {},
   "outputs": [
    {
     "data": {
      "text/plain": [
       "13"
      ]
     },
     "execution_count": 14,
     "metadata": {},
     "output_type": "execute_result"
    }
   ],
   "source": [
    "fib(7)"
   ]
  },
  {
   "cell_type": "code",
   "execution_count": 17,
   "metadata": {},
   "outputs": [
    {
     "name": "stdout",
     "output_type": "stream",
     "text": [
      "0 1 1 2 3 5 8 13 "
     ]
    }
   ],
   "source": [
    "for i in range(8):\n",
    "    print(fib(i), end=' ')"
   ]
  },
  {
   "cell_type": "code",
   "execution_count": 18,
   "metadata": {},
   "outputs": [
    {
     "data": {
      "text/plain": [
       "str"
      ]
     },
     "execution_count": 18,
     "metadata": {},
     "output_type": "execute_result"
    }
   ],
   "source": [
    "type(str(125))"
   ]
  },
  {
   "cell_type": "code",
   "execution_count": 19,
   "metadata": {},
   "outputs": [],
   "source": [
    "def integer_sum(n):\n",
    "    n=str(n)\n",
    "    if n=='':\n",
    "        return 0\n",
    "    elif len(n)==1:\n",
    "        return n\n",
    "    else:\n",
    "        return int(n[0])+int(integer_sum(n[1:]))\n",
    "        "
   ]
  },
  {
   "cell_type": "code",
   "execution_count": 20,
   "metadata": {},
   "outputs": [
    {
     "data": {
      "text/plain": [
       "9"
      ]
     },
     "execution_count": 20,
     "metadata": {},
     "output_type": "execute_result"
    }
   ],
   "source": [
    "integer_sum(45)"
   ]
  },
  {
   "cell_type": "code",
   "execution_count": 21,
   "metadata": {},
   "outputs": [],
   "source": [
    "def sum_number(n):\n",
    "    if n==0 or n==1:\n",
    "        return n\n",
    "    else:\n",
    "        return n+sum_number(n-1)"
   ]
  },
  {
   "cell_type": "code",
   "execution_count": 22,
   "metadata": {},
   "outputs": [
    {
     "data": {
      "text/plain": [
       "15"
      ]
     },
     "execution_count": 22,
     "metadata": {},
     "output_type": "execute_result"
    }
   ],
   "source": [
    "sum_number(5)"
   ]
  },
  {
   "cell_type": "code",
   "execution_count": 23,
   "metadata": {},
   "outputs": [],
   "source": [
    "def exponent(a,b):\n",
    "    if a==0:\n",
    "        return 0\n",
    "    elif b==0:\n",
    "        return 1\n",
    "    else:\n",
    "        return a*exponent(a,b-1)"
   ]
  },
  {
   "cell_type": "code",
   "execution_count": 24,
   "metadata": {},
   "outputs": [
    {
     "data": {
      "text/plain": [
       "0"
      ]
     },
     "execution_count": 24,
     "metadata": {},
     "output_type": "execute_result"
    }
   ],
   "source": [
    "exponent(0,3)"
   ]
  },
  {
   "cell_type": "code",
   "execution_count": 25,
   "metadata": {},
   "outputs": [
    {
     "data": {
      "text/plain": [
       "1"
      ]
     },
     "execution_count": 25,
     "metadata": {},
     "output_type": "execute_result"
    }
   ],
   "source": [
    "exponent(3,0)"
   ]
  },
  {
   "cell_type": "code",
   "execution_count": 26,
   "metadata": {},
   "outputs": [
    {
     "data": {
      "text/plain": [
       "1"
      ]
     },
     "execution_count": 26,
     "metadata": {},
     "output_type": "execute_result"
    }
   ],
   "source": [
    "exponent(1,3)"
   ]
  },
  {
   "cell_type": "code",
   "execution_count": 27,
   "metadata": {},
   "outputs": [
    {
     "data": {
      "text/plain": [
       "16"
      ]
     },
     "execution_count": 27,
     "metadata": {},
     "output_type": "execute_result"
    }
   ],
   "source": [
    "exponent(2,4)"
   ]
  },
  {
   "cell_type": "markdown",
   "metadata": {},
   "source": [
    "# Objected Oriented Programming"
   ]
  },
  {
   "cell_type": "code",
   "execution_count": 32,
   "metadata": {},
   "outputs": [],
   "source": [
    "class FirstClass:            #Definining the class Object\n",
    "    def setdata(self,value): #Defining class method\n",
    "        self.data=value      #Self is the instance of the class\n",
    "    def display(self):\n",
    "        print(self.data)     #self.data:per instance"
   ]
  },
  {
   "cell_type": "code",
   "execution_count": 33,
   "metadata": {},
   "outputs": [],
   "source": [
    "x=FirstClass() # the braces call the class creating an instance of the class\n",
    "y=FirstClass() # Each instance is a new namespace"
   ]
  },
  {
   "cell_type": "code",
   "execution_count": 34,
   "metadata": {},
   "outputs": [],
   "source": [
    "x.setdata(56) #the attribute data in the instance x. "
   ]
  },
  {
   "cell_type": "code",
   "execution_count": 40,
   "metadata": {},
   "outputs": [
    {
     "name": "stdout",
     "output_type": "stream",
     "text": [
      "56\n"
     ]
    }
   ],
   "source": [
    "x.display() #Calling the display method"
   ]
  },
  {
   "cell_type": "raw",
   "metadata": {},
   "source": [
    "Because x and y exist in different namespaces y.display() will bring back an attribute error"
   ]
  },
  {
   "cell_type": "code",
   "execution_count": 41,
   "metadata": {},
   "outputs": [],
   "source": [
    "y.setdata(90) # What happens to x happens to y below"
   ]
  },
  {
   "cell_type": "code",
   "execution_count": 42,
   "metadata": {},
   "outputs": [
    {
     "name": "stdout",
     "output_type": "stream",
     "text": [
      "90\n"
     ]
    }
   ],
   "source": [
    "y.display()"
   ]
  },
  {
   "cell_type": "code",
   "execution_count": 44,
   "metadata": {},
   "outputs": [
    {
     "name": "stdout",
     "output_type": "stream",
     "text": [
      "Ariel Ombura\n"
     ]
    }
   ],
   "source": [
    "# On account of dynamicism in OOP we can change attributes as instance objects\n",
    "# This somewhat makes sense because self really implies the instance\n",
    "x.data='Ariel Ombura'\n",
    "x.display()"
   ]
  },
  {
   "cell_type": "markdown",
   "metadata": {},
   "source": [
    "# Class inheritance"
   ]
  },
  {
   "cell_type": "code",
   "execution_count": 45,
   "metadata": {},
   "outputs": [],
   "source": [
    "class SecondClass(FirstClass): #inherits setdata method \n",
    "    def display(self):         # Changes display method\n",
    "        print(f'Current value={self.data}')"
   ]
  },
  {
   "cell_type": "code",
   "execution_count": 48,
   "metadata": {},
   "outputs": [],
   "source": [
    "z=SecondClass() # an instance of SecondClass instance"
   ]
  },
  {
   "cell_type": "code",
   "execution_count": 49,
   "metadata": {},
   "outputs": [
    {
     "name": "stdout",
     "output_type": "stream",
     "text": [
      "Current value=Achila\n"
     ]
    }
   ],
   "source": [
    "z.setdata('Achila')\n",
    "z.display()"
   ]
  },
  {
   "cell_type": "code",
   "execution_count": 60,
   "metadata": {},
   "outputs": [],
   "source": [
    "class ThirdClass(SecondClass): #inheritance from SecondClass\n",
    "    def __init__(self,value):   #Attributes of ThirdClass.\n",
    "        self.data=value\n",
    "    def __add__(self,other):    #Called on self+other\n",
    "        return ThirdClass(self.data+other)\n",
    "    def __str__(self):          #On print(self) str()\n",
    "        return f'[ThirdClass: {self.data}]'\n",
    "    def mul(self,other): #inplace change of data\n",
    "        self.data*=other"
   ]
  },
  {
   "cell_type": "code",
   "execution_count": 61,
   "metadata": {},
   "outputs": [
    {
     "name": "stdout",
     "output_type": "stream",
     "text": [
      "Current value=AOA\n"
     ]
    }
   ],
   "source": [
    "k=ThirdClass('AOA') #Here __init__ is called and 'AOA' is the value.k is self\n",
    "k.display() #Inherited from SecondClass"
   ]
  },
  {
   "cell_type": "code",
   "execution_count": 62,
   "metadata": {},
   "outputs": [
    {
     "name": "stdout",
     "output_type": "stream",
     "text": [
      "[ThirdClass: AOA]\n"
     ]
    }
   ],
   "source": [
    "print(k)    #__str__returns the display string"
   ]
  },
  {
   "cell_type": "code",
   "execution_count": 64,
   "metadata": {},
   "outputs": [
    {
     "name": "stdout",
     "output_type": "stream",
     "text": [
      "Current value=AOAAchweezy\n"
     ]
    }
   ],
   "source": [
    "m=k+'Achweezy'   #Makes a new instance m\n",
    "m.display()      #m inherits all the ThirdClass attributes"
   ]
  },
  {
   "cell_type": "code",
   "execution_count": 65,
   "metadata": {},
   "outputs": [
    {
     "name": "stdout",
     "output_type": "stream",
     "text": [
      "[ThirdClass: AOAAchweezy]\n"
     ]
    }
   ],
   "source": [
    "print(m)"
   ]
  },
  {
   "cell_type": "code",
   "execution_count": 66,
   "metadata": {},
   "outputs": [],
   "source": [
    "k.mul(4)  #Inplace changing of value by multiplication"
   ]
  },
  {
   "cell_type": "code",
   "execution_count": 67,
   "metadata": {},
   "outputs": [
    {
     "name": "stdout",
     "output_type": "stream",
     "text": [
      "Current value=AOAAOAAOAAOA\n"
     ]
    }
   ],
   "source": [
    "k.display()"
   ]
  },
  {
   "cell_type": "markdown",
   "metadata": {},
   "source": [
    "# Classes in Action"
   ]
  },
  {
   "cell_type": "code",
   "execution_count": 1,
   "metadata": {},
   "outputs": [],
   "source": [
    "class Person:\n",
    "    def __init__(self,name,job=None,pay=0): #Constructor takes three agreement\n",
    "        self.name=name\n",
    "        self.job=job\n",
    "        self.pay=pay\n",
    "    def lastName(self): #Help get the last name\n",
    "        return self.name.split()[-1] #converts 'name' to list,returns name at index -1,last name\n",
    "    def giveRaise(self, percent):\n",
    "        self.pay = int(self.pay * (1 + percent))\n",
    "    def __repr__(self):\n",
    "        return f'Person:{self.name},{self.pay}'"
   ]
  },
  {
   "cell_type": "code",
   "execution_count": 2,
   "metadata": {},
   "outputs": [],
   "source": [
    "#Customizing using class inheritance. \n",
    "#Basically creating a subclass\n",
    "class Manager(Person):\n",
    "    def __init__(self, name, pay): #Redefining Constructor\n",
    "        Person.__init__(self, name, 'mgr', pay)\n",
    "    def giveRaise(self,percent,bonus=0.10):\n",
    "        Person.giveRaise(self,percent+bonus)"
   ]
  },
  {
   "cell_type": "code",
   "execution_count": 5,
   "metadata": {},
   "outputs": [
    {
     "name": "stdout",
     "output_type": "stream",
     "text": [
      "Ariel Achila 0\n",
      "Maureen Ngallo 100000\n",
      "Person:Ariel Achila,0\n",
      "Person:Maureen Ngallo,100000\n",
      "Achila Ngallo\n",
      "Person:Maureen Ngallo,110000\n",
      "Ombweezy\n",
      "Person:Achweezy Ombweezy,60000\n"
     ]
    }
   ],
   "source": [
    "if __name__ == '__main__': # When run for testing only\n",
    "# self-test code\n",
    "    Ariel = Person('Ariel Achila')\n",
    "    Maureen = Person('Maureen Ngallo', job='dev', pay=100000)\n",
    "    print(Ariel.name, Ariel.pay)\n",
    "    print(Maureen.name, Maureen.pay)\n",
    "    print(Ariel)\n",
    "    print(Maureen)\n",
    "    print(Ariel.lastName(), Maureen.lastName())\n",
    "    Maureen.giveRaise(.10)\n",
    "    print(Maureen)\n",
    "    Achila = Manager('Achweezy Ombweezy', 50000) # Make a Manager: __init__\n",
    "    Achila.giveRaise(.10) # Runs custom version\n",
    "    print(Achila.lastName()) # Runs inherited method\n",
    "    print(Achila)"
   ]
  },
  {
   "cell_type": "code",
   "execution_count": null,
   "metadata": {},
   "outputs": [],
   "source": []
  }
 ],
 "metadata": {
  "kernelspec": {
   "display_name": "Python 3",
   "language": "python",
   "name": "python3"
  },
  "language_info": {
   "codemirror_mode": {
    "name": "ipython",
    "version": 3
   },
   "file_extension": ".py",
   "mimetype": "text/x-python",
   "name": "python",
   "nbconvert_exporter": "python",
   "pygments_lexer": "ipython3",
   "version": "3.8.5"
  }
 },
 "nbformat": 4,
 "nbformat_minor": 4
}
